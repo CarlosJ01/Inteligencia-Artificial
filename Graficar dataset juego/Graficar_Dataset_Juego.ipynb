{
 "cells": [
  {
   "cell_type": "code",
   "execution_count": 1,
   "id": "6ee0cbe1",
   "metadata": {},
   "outputs": [
    {
     "data": {
      "text/html": [
       "<div>\n",
       "<style scoped>\n",
       "    .dataframe tbody tr th:only-of-type {\n",
       "        vertical-align: middle;\n",
       "    }\n",
       "\n",
       "    .dataframe tbody tr th {\n",
       "        vertical-align: top;\n",
       "    }\n",
       "\n",
       "    .dataframe thead th {\n",
       "        text-align: right;\n",
       "    }\n",
       "</style>\n",
       "<table border=\"1\" class=\"dataframe\">\n",
       "  <thead>\n",
       "    <tr style=\"text-align: right;\">\n",
       "      <th></th>\n",
       "      <th>desplazamiento</th>\n",
       "      <th>velocidad</th>\n",
       "      <th>estatus</th>\n",
       "    </tr>\n",
       "  </thead>\n",
       "  <tbody>\n",
       "    <tr>\n",
       "      <th>0</th>\n",
       "      <td>-650</td>\n",
       "      <td>-614</td>\n",
       "      <td>S</td>\n",
       "    </tr>\n",
       "    <tr>\n",
       "      <th>1</th>\n",
       "      <td>-650</td>\n",
       "      <td>-614</td>\n",
       "      <td>S</td>\n",
       "    </tr>\n",
       "    <tr>\n",
       "      <th>2</th>\n",
       "      <td>-630</td>\n",
       "      <td>-614</td>\n",
       "      <td>S</td>\n",
       "    </tr>\n",
       "    <tr>\n",
       "      <th>3</th>\n",
       "      <td>-610</td>\n",
       "      <td>-614</td>\n",
       "      <td>S</td>\n",
       "    </tr>\n",
       "    <tr>\n",
       "      <th>4</th>\n",
       "      <td>-589</td>\n",
       "      <td>-614</td>\n",
       "      <td>S</td>\n",
       "    </tr>\n",
       "    <tr>\n",
       "      <th>...</th>\n",
       "      <td>...</td>\n",
       "      <td>...</td>\n",
       "      <td>...</td>\n",
       "    </tr>\n",
       "    <tr>\n",
       "      <th>2882</th>\n",
       "      <td>-40</td>\n",
       "      <td>-339</td>\n",
       "      <td>A</td>\n",
       "    </tr>\n",
       "    <tr>\n",
       "      <th>2883</th>\n",
       "      <td>-29</td>\n",
       "      <td>-339</td>\n",
       "      <td>A</td>\n",
       "    </tr>\n",
       "    <tr>\n",
       "      <th>2884</th>\n",
       "      <td>-18</td>\n",
       "      <td>-339</td>\n",
       "      <td>A</td>\n",
       "    </tr>\n",
       "    <tr>\n",
       "      <th>2885</th>\n",
       "      <td>-6</td>\n",
       "      <td>-339</td>\n",
       "      <td>A</td>\n",
       "    </tr>\n",
       "    <tr>\n",
       "      <th>2886</th>\n",
       "      <td>5</td>\n",
       "      <td>-339</td>\n",
       "      <td>A</td>\n",
       "    </tr>\n",
       "  </tbody>\n",
       "</table>\n",
       "<p>2887 rows × 3 columns</p>\n",
       "</div>"
      ],
      "text/plain": [
       "      desplazamiento  velocidad estatus\n",
       "0               -650       -614       S\n",
       "1               -650       -614       S\n",
       "2               -630       -614       S\n",
       "3               -610       -614       S\n",
       "4               -589       -614       S\n",
       "...              ...        ...     ...\n",
       "2882             -40       -339       A\n",
       "2883             -29       -339       A\n",
       "2884             -18       -339       A\n",
       "2885              -6       -339       A\n",
       "2886               5       -339       A\n",
       "\n",
       "[2887 rows x 3 columns]"
      ]
     },
     "execution_count": 1,
     "metadata": {},
     "output_type": "execute_result"
    }
   ],
   "source": [
    "# Importar el data set\n",
    "import pandas as pd\n",
    "import pylab as pl\n",
    "import numpy as np\n",
    "\n",
    "# Leer dataset\n",
    "dataset = pd.read_csv('dataset.csv')\n",
    "dataset"
   ]
  },
  {
   "cell_type": "code",
   "execution_count": 7,
   "id": "4064ee0c",
   "metadata": {},
   "outputs": [
    {
     "data": {
      "text/plain": [
       "[<matplotlib.lines.Line2D at 0x20dda08b340>]"
      ]
     },
     "execution_count": 7,
     "metadata": {},
     "output_type": "execute_result"
    },
    {
     "data": {
      "image/png": "[encoded data removed]",
      "text/plain": [
       "<Figure size 432x288 with 1 Axes>"
      ]
     },
     "metadata": {
      "needs_background": "light"
     },
     "output_type": "display_data"
    }
   ],
   "source": [
    "# Graficar el Desplazamiento\n",
    "estatus = dataset.estatus.to_numpy()\n",
    "desplazamiento = dataset.desplazamiento.to_numpy()\n",
    "longitud = len(desplazamiento[:500])\n",
    "\n",
    "# Graficar los valores por colores\n",
    "x=[]\n",
    "y=[]\n",
    "cambiar = True\n",
    "for i in range(longitud):\n",
    "    if estatus[i] == 'A' and cambiar:\n",
    "        # Grafica las S\n",
    "        pl.plot(x, y, '-b')\n",
    "        x = []\n",
    "        y = []\n",
    "        cambiar = False\n",
    "    if estatus[i] == 'S' and (not cambiar):\n",
    "        # Grafica las A\n",
    "        pl.plot(x, y, '-r')\n",
    "        x = []\n",
    "        y = []\n",
    "        cambiar = True\n",
    "    \n",
    "    x.append(i)\n",
    "    y.append(desplazamiento[i])\n",
    "    \n",
    "pl.plot(x, y, '-b')\n",
    "        \n"
   ]
  },
  {
   "cell_type": "code",
   "execution_count": 8,
   "id": "3e40fdac",
   "metadata": {},
   "outputs": [
    {
     "data": {
      "text/plain": [
       "[<matplotlib.lines.Line2D at 0x20dda134be0>]"
      ]
     },
     "execution_count": 8,
     "metadata": {},
     "output_type": "execute_result"
    },
    {
     "data": {
      "image/png": "[encoded data removed]",
      "text/plain": [
       "<Figure size 432x288 with 1 Axes>"
      ]
     },
     "metadata": {
      "needs_background": "light"
     },
     "output_type": "display_data"
    }
   ],
   "source": [
    "# Graficar el Desplazamiento\n",
    "velocidad = dataset.velocidad.to_numpy()\n",
    "longitud = len(velocidad[:500])\n",
    "\n",
    "# Graficar los valores por colores\n",
    "x=[]\n",
    "y=[]\n",
    "cambiar = True\n",
    "for i in range(longitud):\n",
    "    if estatus[i] == 'A' and cambiar:\n",
    "        pl.plot(x, y, '-b')\n",
    "        x = []\n",
    "        y = []\n",
    "        cambiar = False\n",
    "    if estatus[i] == 'S' and not cambiar:\n",
    "        pl.plot(x, y, '-r')\n",
    "        x = []\n",
    "        y = []\n",
    "        cambiar = True\n",
    "    \n",
    "    x.append(i)\n",
    "    y.append(velocidad[i])\n",
    "    \n",
    "pl.plot(x, y, '-b')"
   ]
  },
  {
   "cell_type": "code",
   "execution_count": null,
   "id": "41da5b01",
   "metadata": {},
   "outputs": [],
   "source": []
  },
  {
   "cell_type": "code",
   "execution_count": null,
   "id": "dec44cb5",
   "metadata": {},
   "outputs": [],
   "source": []
  }
 ],
 "metadata": {
  "kernelspec": {
   "display_name": "Python 3",
   "language": "python",
   "name": "python3"
  },
  "language_info": {
   "codemirror_mode": {
    "name": "ipython",
    "version": 3
   },
   "file_extension": ".py",
   "mimetype": "text/x-python",
   "name": "python",
   "nbconvert_exporter": "python",
   "pygments_lexer": "ipython3",
   "version": "3.8.8"
  }
 },
 "nbformat": 4,
 "nbformat_minor": 5
}
