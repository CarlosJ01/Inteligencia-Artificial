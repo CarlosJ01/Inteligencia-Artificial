{
 "cells": [
  {
   "cell_type": "code",
   "execution_count": 1,
   "metadata": {},
   "outputs": [],
   "source": [
    "import numpy as np \n",
    "import cv2 as cv "
   ]
  },
  {
   "cell_type": "code",
   "execution_count": 6,
   "metadata": {},
   "outputs": [],
   "source": [
    "cap = cv.VideoCapture(0)"
   ]
  },
  {
   "cell_type": "code",
   "execution_count": 7,
   "metadata": {},
   "outputs": [],
   "source": [
    "while True:\n",
    "    ret, frame =cap.read()\n",
    "    ret , mascara = cv.threshold(frame[:,:,2], 100, 150, cv.THRESH_BINARY)\n",
    "    \n",
    "    mascara1 = np.zeros_like(frame)\n",
    "    mascara1[:, :, 0]=mascara\n",
    "    mascara1[:, :, 1]=mascara\n",
    "    mascara1[:, :, 2]=mascara\n",
    "    \n",
    "    color = cv.bitwise_and(frame,mascara1)\n",
    "    gris = cv.cvtColor(frame, cv.COLOR_BGR2GRAY)\n",
    "    img = cv.cvtColor(gris, cv.COLOR_GRAY2BGR)\n",
    "    \n",
    "    gris = cv.bitwise_and(img, 255 - mascara1)\n",
    "    salida = gris + color\n",
    "    \n",
    "    cv.imshow('Camara', frame)\n",
    "    cv.imshow('Mascara', mascara1)\n",
    "    cv.imshow('Salida', salida)\n",
    "    \n",
    "    if cv.waitKey(1) == ord('q'):\n",
    "        break\n",
    "\n",
    "cap.release()\n",
    "cv.destroyAllWindows()\n",
    "    "
   ]
  },
  {
   "cell_type": "code",
   "execution_count": 4,
   "metadata": {},
   "outputs": [],
   "source": [
    "piso = (0,100,100)\n",
    "techo = (0,100,52)\n",
    "\n",
    "piso2 = (0, 100, 100)\n",
    "techo2 = (10, 255, 255)\n",
    "\n",
    "while True:\n",
    "    ret, frame =cap.read()\n",
    "    gris = cv.cvtColor(frame, cv.COLOR_BGR2GRAY)\n",
    "#    hsv = cv.cvtColor(frame, cv.COLOR_BGR2HSV)\n",
    "#    mascara1 = cv.inRange(hsv, piso, techo)\n",
    "#    resultado = cv.bitwise_and(frame, frame, mask=mascara1)\n",
    "#    cv.imshow('hsv', hsv)\n",
    "#    cv.imshow('frame', frame)\n",
    "#    cv.imshow('Gris', gris)\n",
    "#    cv.imshow('Resultado', resultado)\n",
    "#    if cv.waitKey(1) == ord('q'):\n",
    "#        break\n",
    "\n",
    "cap.release()\n",
    "cv.destroyAllWindows()"
   ]
  },
  {
   "cell_type": "code",
   "execution_count": 5,
   "metadata": {},
   "outputs": [],
   "source": [
    "img = cv.imread('mango.jpg')\n",
    "ret , mascara = cv.threshold(img[:,:,2], 200, 255, cv.THRESH_BINARY)\n",
    "\n",
    "mascara1 = np.zeros_like(img)\n",
    "mascara1[:, :, 0]=mascara\n",
    "mascara1[:, :, 1]=mascara\n",
    "mascara1[:, :, 2]=mascara\n",
    "\n",
    "mango = cv.bitwise_and(img,mascara1)\n",
    "\n",
    "gris = cv.cvtColor(img, cv.COLOR_BGR2GRAY)\n",
    "img = cv.cvtColor(gris, cv.COLOR_GRAY2BGR)\n",
    "\n",
    "\n",
    "gris = cv.bitwise_and(img, 255 - mascara1)\n",
    "\n",
    "salida = gris + mango\n",
    "\n",
    "cv.imshow('salida', salida)\n",
    "#cv.imshow('mango', mango)\n",
    "#cv.imshow('gris', gris)\n",
    "cv.waitKey(0)\n",
    "\n",
    "cv.destroyAllWindows()\n",
    "\n",
    "\n",
    "\n",
    "\n"
   ]
  },
  {
   "cell_type": "code",
   "execution_count": null,
   "metadata": {},
   "outputs": [],
   "source": []
  }
 ],
 "metadata": {
  "kernelspec": {
   "display_name": "Python 3",
   "language": "python",
   "name": "python3"
  },
  "language_info": {
   "codemirror_mode": {
    "name": "ipython",
    "version": 3
   },
   "file_extension": ".py",
   "mimetype": "text/x-python",
   "name": "python",
   "nbconvert_exporter": "python",
   "pygments_lexer": "ipython3",
   "version": "3.8.8"
  }
 },
 "nbformat": 4,
 "nbformat_minor": 4
}
